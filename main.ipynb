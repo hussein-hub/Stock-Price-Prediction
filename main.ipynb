{
 "nbformat": 4,
 "nbformat_minor": 0,
 "metadata": {
  "colab": {
   "name": "Copy of rdbmsIA2.ipynb",
   "provenance": [],
   "collapsed_sections": []
  },
  "kernelspec": {
   "name": "python3",
   "language": "python",
   "display_name": "Python 3"
  },
  "language_info": {
   "name": "python"
  }
 },
 "cells": [
  {
   "cell_type": "markdown",
   "metadata": {
    "id": "jzvW2nYGrKSh"
   },
   "source": [
    "# Downloading QUANDL package"
   ]
  },
  {
   "cell_type": "markdown",
   "metadata": {
    "id": "i8eQAc8rrQc5"
   },
   "source": [
    "### As data is taken from quandl package"
   ]
  },
  {
   "cell_type": "code",
   "metadata": {
    "colab": {
     "base_uri": "https://localhost:8080/"
    },
    "id": "gR1LvihHnEfQ",
    "outputId": "d6dd1d68-f301-474c-af70-19ac60b77265"
   },
   "source": [
    "pip install quandl"
   ],
   "execution_count": 1,
   "outputs": [
    {
     "ename": "SyntaxError",
     "evalue": "invalid syntax (<ipython-input-1-919755a5b3ab>, line 1)",
     "output_type": "error",
     "traceback": [
      "\u001B[1;36m  File \u001B[1;32m\"<ipython-input-1-919755a5b3ab>\"\u001B[1;36m, line \u001B[1;32m1\u001B[0m\n\u001B[1;33m    pip install quandl\u001B[0m\n\u001B[1;37m        ^\u001B[0m\n\u001B[1;31mSyntaxError\u001B[0m\u001B[1;31m:\u001B[0m invalid syntax\n"
     ]
    }
   ]
  },
  {
   "cell_type": "markdown",
   "metadata": {
    "id": "FsGwae5Orqnj"
   },
   "source": [
    "# imports needed for project"
   ]
  },
  {
   "cell_type": "code",
   "metadata": {
    "id": "wU4Mz-0tnRjS"
   },
   "source": [
    "import pandas as pd\n",
    "import matplotlib.pyplot as plt\n",
    "import seaborn as sns\n",
    "from sklearn.preprocessing import LabelEncoder, MinMaxScaler\n",
    "from sklearn.model_selection import train_test_split\n",
    "from sklearn.linear_model import LinearRegression\n",
    "from datetime import date, datetime\n",
    "import datetime as dt\n",
    "import numpy as np\n",
    "import quandl"
   ],
   "execution_count": null,
   "outputs": []
  },
  {
   "cell_type": "markdown",
   "metadata": {
    "id": "i8XKHcJUsEgv"
   },
   "source": [
    "# Loading downloading data from quandl and loading it into _`data`_ dataFrame\n"
   ]
  },
  {
   "cell_type": "code",
   "metadata": {
    "id": "CMW3mlgVnSR3"
   },
   "source": [
    "data = quandl.get(\"WIKI/GOOGL\", start_date=\"2004-08-19\", end_date=\"2017-11-04\")"
   ],
   "execution_count": null,
   "outputs": []
  },
  {
   "cell_type": "markdown",
   "metadata": {
    "id": "s6wB8s_Vs6Is"
   },
   "source": [
    "# Displaying the dataFrame\n",
    "\n"
   ]
  },
  {
   "cell_type": "code",
   "metadata": {
    "colab": {
     "base_uri": "https://localhost:8080/",
     "height": 436
    },
    "id": "_0XBxj1anWwN",
    "outputId": "8f8fcf77-5fbd-4282-870f-9256e920e019"
   },
   "source": [
    "data"
   ],
   "execution_count": 2,
   "outputs": [
    {
     "ename": "NameError",
     "evalue": "name 'data' is not defined",
     "output_type": "error",
     "traceback": [
      "\u001B[1;31m---------------------------------------------------------------------------\u001B[0m",
      "\u001B[1;31mNameError\u001B[0m                                 Traceback (most recent call last)",
      "\u001B[1;32m<ipython-input-2-6797158a73cf>\u001B[0m in \u001B[0;36m<module>\u001B[1;34m\u001B[0m\n\u001B[1;32m----> 1\u001B[1;33m \u001B[0mdata\u001B[0m\u001B[1;33m\u001B[0m\u001B[1;33m\u001B[0m\u001B[0m\n\u001B[0m\u001B[0;32m      2\u001B[0m \u001B[1;33m\u001B[0m\u001B[0m\n",
      "\u001B[1;31mNameError\u001B[0m: name 'data' is not defined"
     ]
    }
   ]
  },
  {
   "cell_type": "code",
   "metadata": {
    "colab": {
     "base_uri": "https://localhost:8080/"
    },
    "id": "uYE0Fs3KnYqW",
    "outputId": "22c57dab-dbb7-49af-d405-8d1b4b814a09"
   },
   "source": [
    "data.index"
   ],
   "execution_count": null,
   "outputs": []
  },
  {
   "cell_type": "markdown",
   "metadata": {
    "id": "Ac7p8_pntPch"
   },
   "source": [
    "# Creating 2 columns derived from other columns\n",
    "\n",
    "$$HL-PCT = \\frac{(Adj. High - Adj. Low) * 100}{Adj.Close}$$\n",
    "\n",
    "$$PCT-change = \\frac{(Adj. Close - Adj. Open) * 100}{Adj.Open}$$\n",
    "\n"
   ]
  },
  {
   "cell_type": "code",
   "metadata": {
    "id": "xABcZQMOnZgr"
   },
   "source": [
    "data['HL_PCT'] = (data['Adj. High'] - data['Adj. Low']) * 100 / data['Adj. Close']\n",
    "data['PCT_change'] = (data['Adj. Close'] - data['Adj. Open']) * 100 / data['Adj. Open']"
   ],
   "execution_count": null,
   "outputs": []
  },
  {
   "cell_type": "code",
   "metadata": {
    "colab": {
     "base_uri": "https://localhost:8080/",
     "height": 436
    },
    "id": "eqyO8qdVoIDg",
    "outputId": "2dbfaacc-3bd7-42c6-8efd-727c695dfada"
   },
   "source": [
    "data"
   ],
   "execution_count": null,
   "outputs": []
  },
  {
   "cell_type": "markdown",
   "metadata": {
    "id": "X7WtPL6pvd4h"
   },
   "source": [
    "### Droping the rows with value as _`NA`_"
   ]
  },
  {
   "cell_type": "code",
   "metadata": {
    "colab": {
     "base_uri": "https://localhost:8080/"
    },
    "id": "hwEJ-NdZoIwY",
    "outputId": "89327d21-9235-44b6-f56e-56f34dfb9253"
   },
   "source": [
    "data.dropna(inplace=True)\n",
    "data.info()"
   ],
   "execution_count": null,
   "outputs": []
  },
  {
   "cell_type": "code",
   "metadata": {
    "colab": {
     "base_uri": "https://localhost:8080/",
     "height": 287
    },
    "id": "ZXDvgW71okOW",
    "outputId": "ded00d9e-9629-45f5-a9a1-7ce2fd69694b"
   },
   "source": [
    "data.describe()"
   ],
   "execution_count": null,
   "outputs": []
  },
  {
   "cell_type": "code",
   "metadata": {
    "id": "SNwU0HvxpKjy"
   },
   "source": [
    "df = pd.DataFrame(data, columns=['Close'])"
   ],
   "execution_count": null,
   "outputs": []
  },
  {
   "cell_type": "code",
   "metadata": {
    "id": "WqchXYqXpScY"
   },
   "source": [
    "df['Date'] = df.index"
   ],
   "execution_count": null,
   "outputs": []
  },
  {
   "cell_type": "code",
   "metadata": {
    "colab": {
     "base_uri": "https://localhost:8080/"
    },
    "id": "lnP8L-BNpSca",
    "outputId": "3439f608-8bc8-4a93-815a-0f5c6a8cac7b"
   },
   "source": [
    "for i in range(len(df['Date'])):\n",
    "  df['Date'].iloc[i] = str(df['Date'].iloc[i])[:10]"
   ],
   "execution_count": null,
   "outputs": []
  },
  {
   "cell_type": "code",
   "metadata": {
    "colab": {
     "base_uri": "https://localhost:8080/"
    },
    "id": "NJ7gB4ShpZbz",
    "outputId": "4ff038d2-4a40-4fcf-e7b9-e02afba016a4"
   },
   "source": [
    "df.isna().values.any()"
   ],
   "execution_count": null,
   "outputs": []
  },
  {
   "cell_type": "code",
   "metadata": {
    "id": "yNzr9qsbpZcE"
   },
   "source": [
    "df.set_index([pd.Index(np.arange(0,3328))], inplace=True)"
   ],
   "execution_count": null,
   "outputs": []
  },
  {
   "cell_type": "markdown",
   "metadata": {
    "id": "qSkO_8SCv44l"
   },
   "source": [
    "# Plotting the Graph of Date vs Closing value of stock"
   ]
  },
  {
   "cell_type": "code",
   "metadata": {
    "colab": {
     "base_uri": "https://localhost:8080/",
     "height": 655
    },
    "id": "vJTPnbxkpZcF",
    "outputId": "5963bb14-5e3e-41ab-9c5e-088cc3a271e9"
   },
   "source": [
    "import matplotlib.dates as mdates\n",
    "\n",
    "years = mdates.YearLocator() # Get every year\n",
    "yearsFmt = mdates.DateFormatter('%Y') # Set year format\n",
    "\n",
    "# Create subplots to plot graph and control axes\n",
    "fig, ax = plt.subplots(figsize=(24,12))\n",
    "\n",
    "ax.plot(df['Date'], df['Close'])\n",
    "\n",
    "# Format the ticks\n",
    "ax.xaxis.set_major_locator(years)\n",
    "ax.xaxis.set_major_formatter(yearsFmt)\n",
    "\n",
    "# plt.figure(figsize=(12, 12))\n",
    "# Set figure title\n",
    "plt.title('Close Stock Price History [2004 - 2017]', fontsize=18)\n",
    "# Set x label\n",
    "plt.xlabel('Date', fontsize=14)\n",
    "# Set y label\n",
    "plt.ylabel('Closing Stock Price ', fontsize=18)\n",
    "\n",
    "# Rotate and align the x labels\n",
    "fig.autofmt_xdate()\n",
    "\n",
    "# Show plot\n",
    "plt.show()"
   ],
   "execution_count": null,
   "outputs": []
  },
  {
   "cell_type": "markdown",
   "metadata": {
    "id": "hkYDlCNpwFNF"
   },
   "source": [
    "# Plotting heatmap for correlation between all the columns in the table"
   ]
  },
  {
   "cell_type": "code",
   "metadata": {
    "id": "kDVdASG0EkjU",
    "colab": {
     "base_uri": "https://localhost:8080/",
     "height": 772
    },
    "outputId": "8f01441d-3762-47f2-ad19-f7a685c5f727"
   },
   "source": [
    "data_copy=data.copy()\n",
    "data_copy.drop(['Split Ratio'],axis=1,inplace=True)\n",
    "plt.subplots(figsize=(12,12))\n",
    "sns.heatmap(data_copy.corr())\n"
   ],
   "execution_count": null,
   "outputs": []
  },
  {
   "cell_type": "code",
   "metadata": {
    "id": "JFDG_PmdInlW",
    "colab": {
     "base_uri": "https://localhost:8080/"
    },
    "outputId": "ed9c4baa-4360-4690-dc74-350e8800d75f"
   },
   "source": [
    "displayedClose = list()\n",
    "count = 0\n",
    "for i in data_copy['Close']:\n",
    "  if count == 125 or count == 0:\n",
    "    displayedClose.append(i)\n",
    "    count = 1\n",
    "  count += 1\n",
    "print(displayedClose)"
   ],
   "execution_count": null,
   "outputs": []
  },
  {
   "cell_type": "markdown",
   "metadata": {
    "id": "-yGgRXzLwTGv"
   },
   "source": [
    "# Normalizing all the columns"
   ]
  },
  {
   "cell_type": "code",
   "metadata": {
    "id": "NzR93BrHosbk"
   },
   "source": [
    "for column in data.columns:\n",
    "    data[column] = data[column]  / data[column].abs().max()"
   ],
   "execution_count": null,
   "outputs": []
  },
  {
   "cell_type": "code",
   "metadata": {
    "colab": {
     "base_uri": "https://localhost:8080/",
     "height": 436
    },
    "id": "wxqsrObDo99N",
    "outputId": "bedb119c-9ef9-4686-c511-808d2bb4b464"
   },
   "source": [
    "data"
   ],
   "execution_count": null,
   "outputs": []
  },
  {
   "cell_type": "markdown",
   "metadata": {
    "id": "idLNHsHHwlxe"
   },
   "source": [
    "# Splitting data for training and testing"
   ]
  },
  {
   "cell_type": "code",
   "metadata": {
    "id": "BoAMwH0_pMuc"
   },
   "source": [
    "x = data[['Adj. Close',\t'Adj. Volume',\t'HL_PCT',\t'PCT_change']]\n",
    "y = data['Close']"
   ],
   "execution_count": null,
   "outputs": []
  },
  {
   "cell_type": "code",
   "metadata": {
    "id": "4SKJYgDGo-xk"
   },
   "source": [
    "x_train, x_test, y_train, y_test = train_test_split(x, y, random_state=42, test_size=0.3)"
   ],
   "execution_count": null,
   "outputs": []
  },
  {
   "cell_type": "code",
   "metadata": {
    "colab": {
     "base_uri": "https://localhost:8080/"
    },
    "id": "X5xj0POY15iN",
    "outputId": "71147b48-28c2-4455-c4a7-6d40605b0c8b"
   },
   "source": [
    "x_test.sort_index(inplace=True)\n",
    "y_test.sort_index(inplace=True)"
   ],
   "execution_count": null,
   "outputs": []
  },
  {
   "cell_type": "markdown",
   "metadata": {
    "id": "j3lKxujawrvD"
   },
   "source": [
    "# Linear Regression Scores on training and testing data"
   ]
  },
  {
   "cell_type": "code",
   "metadata": {
    "colab": {
     "base_uri": "https://localhost:8080/"
    },
    "id": "ylNkI1cPpK7Q",
    "outputId": "193fe435-8142-4eee-987b-82bd5b3a8870"
   },
   "source": [
    "Lreg = LinearRegression().fit(x_train, y_train)\n",
    "print(Lreg.score(x_train, y_train))\n",
    "print(Lreg.score(x_test, y_test))"
   ],
   "execution_count": null,
   "outputs": []
  },
  {
   "cell_type": "code",
   "metadata": {
    "colab": {
     "base_uri": "https://localhost:8080/"
    },
    "id": "j26bxOhXqBB_",
    "outputId": "8b8ea146-b1e1-462f-80b0-000a4565c2cd"
   },
   "source": [
    "y_pred = Lreg.predict(x_test)\n",
    "import math\n",
    "from sklearn.metrics import mean_squared_error ,r2_score\n",
    "print(\"mean squared error MSE %.2f\" %mean_squared_error(y_test,y_pred))\n",
    "print(\"root mean RMSE %.2f\" % math.sqrt(mean_squared_error(y_test,y_pred)))\n",
    "print(\"mean RMSE %.5f\" % r2_score(y_test,y_pred))"
   ],
   "execution_count": null,
   "outputs": []
  },
  {
   "cell_type": "code",
   "metadata": {
    "colab": {
     "base_uri": "https://localhost:8080/"
    },
    "id": "6TgfadoatxBD",
    "outputId": "f3e6b241-1ea1-43db-d8c1-4201b890fd55"
   },
   "source": [
    "displayedDate = list()\n",
    "count = 0\n",
    "for i in data.index:\n",
    "  if count == 125 or count == 0:\n",
    "    i = datetime.date(i)\n",
    "    displayedDate.append(i)\n",
    "    count = 1\n",
    "  count += 1\n",
    "print(displayedDate)"
   ],
   "execution_count": null,
   "outputs": []
  },
  {
   "cell_type": "markdown",
   "metadata": {
    "id": "XmFVZAX2wzcS"
   },
   "source": [
    "# Plotting the Linear Regression line on the stock price graph using _sns regplot_"
   ]
  },
  {
   "cell_type": "code",
   "metadata": {
    "id": "AK9_cEr4xBt6"
   },
   "source": [
    ""
   ],
   "execution_count": null,
   "outputs": []
  },
  {
   "cell_type": "code",
   "metadata": {
    "colab": {
     "base_uri": "https://localhost:8080/",
     "height": 787
    },
    "id": "WcVdfhFdqEYR",
    "outputId": "68794c87-f724-416d-a78f-76cdad4e7412"
   },
   "source": [
    "plt.figure(figsize=(24, 12))\n",
    "# plt.scatter(data.index, data['Close'], s=1, color='red')\n",
    "# plt.plot(x_test.index, y_pred, color='blue')\n",
    "sns.regplot(data.index.map(dt.datetime.toordinal), data['Close'] ,marker=\".\")"
   ],
   "execution_count": null,
   "outputs": []
  },
  {
   "cell_type": "markdown",
   "metadata": {
    "id": "MWNTtyvzxACx"
   },
   "source": [
    "# Plotting the Linear Regression line on the stock price graph using _custom linear regression_"
   ]
  },
  {
   "cell_type": "code",
   "metadata": {
    "id": "XQ-obqvZpr-r"
   },
   "source": [
    "train, test = train_test_split(df, test_size=0.20)"
   ],
   "execution_count": null,
   "outputs": []
  },
  {
   "cell_type": "code",
   "metadata": {
    "id": "gKYBYvcVpr-s"
   },
   "source": [
    "X_train_self = np.array(train.index).reshape(-1, 1)\n",
    "y_train_self = train['Close']"
   ],
   "execution_count": null,
   "outputs": []
  },
  {
   "cell_type": "code",
   "metadata": {
    "colab": {
     "base_uri": "https://localhost:8080/"
    },
    "id": "qYPMGBrJpr-t",
    "outputId": "a4469246-526f-4dbd-a68c-e11c75bb4f5b"
   },
   "source": [
    "model = LinearRegression()\n",
    "# Fit linear model using the train data set\n",
    "model.fit(X_train_self, y_train_self)"
   ],
   "execution_count": null,
   "outputs": []
  },
  {
   "cell_type": "code",
   "metadata": {
    "colab": {
     "base_uri": "https://localhost:8080/",
     "height": 730
    },
    "id": "RiDxFMDEpr-u",
    "outputId": "0af8593e-1780-47c7-f7eb-7b12821ba359"
   },
   "source": [
    "plt.figure(1, figsize=(24,12))\n",
    "plt.title('Linear Regression | Price vs Time')\n",
    "plt.scatter(X_train_self, y_train_self, edgecolor='w', label='Actual Price')\n",
    "plt.plot(X_train_self, model.predict(X_train_self), color='r', label='Predicted Price')\n",
    "plt.xlabel('Integer Date')\n",
    "plt.ylabel('Stock Price')\n",
    "plt.legend()\n",
    "plt.show()"
   ],
   "execution_count": null,
   "outputs": []
  },
  {
   "cell_type": "code",
   "metadata": {
    "colab": {
     "base_uri": "https://localhost:8080/",
     "height": 717
    },
    "id": "WZHC-ZqC0Tp9",
    "outputId": "aabb3889-9bb2-4940-9a41-9400509d8997"
   },
   "source": [
    "plt.figure(figsize=(24, 12))\n",
    "plt.plot(data.index, data['Close'], color='red')\n",
    "plt.scatter(x_test.index, y_pred, s=2,  color='blue')\n",
    "# plt.plot(testing.index, y_pred_test, color='green')"
   ],
   "execution_count": null,
   "outputs": []
  },
  {
   "cell_type": "markdown",
   "metadata": {
    "id": "d6YiJUUOxaC5"
   },
   "source": [
    "# Loading unseen testing data"
   ]
  },
  {
   "cell_type": "code",
   "metadata": {
    "id": "Ds-53EaD2zDH"
   },
   "source": [
    "testing = quandl.get(\"WIKI/GOOGL\", start_date=\"2017-10-28\", end_date=\"2018-03-27\")"
   ],
   "execution_count": null,
   "outputs": []
  },
  {
   "cell_type": "code",
   "metadata": {
    "colab": {
     "base_uri": "https://localhost:8080/",
     "height": 436
    },
    "id": "3c2B6xXb7esY",
    "outputId": "a0d1e4df-ed81-475e-a5f6-fb612aa7b2b7"
   },
   "source": [
    "testing"
   ],
   "execution_count": null,
   "outputs": []
  },
  {
   "cell_type": "code",
   "metadata": {
    "colab": {
     "base_uri": "https://localhost:8080/"
    },
    "id": "AjNl6zJZ7fnQ",
    "outputId": "1d9b8e6c-0987-4cde-b41c-b8477b4ecc73"
   },
   "source": [
    "testing['HL_PCT'] = (testing['Adj. High'] - testing['Adj. Low']) * 100 / testing['Adj. Close']\n",
    "testing['PCT_change'] = (testing['Adj. Close'] - testing['Adj. Open']) * 100 / testing['Adj. Open']\n",
    "for column in testing.columns:\n",
    "    testing[column] = testing[column]  / testing[column].abs().max()\n",
    "y_pred_test = Lreg.predict(testing[['Adj. Close', 'HL_PCT', 'PCT_change','Adj. Volume']])\n",
    "y_test_test = testing['Close']\n",
    "# print(y_test_test, y_pred)\n",
    "import math\n",
    "from sklearn.metrics import mean_squared_error ,r2_score\n",
    "print(\"mean squared error MSE %.2f\" %mean_squared_error(y_test_test,y_pred_test))\n",
    "print(\"root mean RMSE %.2f\" % math.sqrt(mean_squared_error(y_test_test,y_pred_test)))\n",
    "print(\"mean RMSE %.5f\" % r2_score(y_test_test,y_pred_test))\n"
   ],
   "execution_count": null,
   "outputs": []
  },
  {
   "cell_type": "markdown",
   "metadata": {
    "id": "j-dZRMuKxgW7"
   },
   "source": [
    "# Plotting future prediction value of stocks"
   ]
  },
  {
   "cell_type": "code",
   "metadata": {
    "colab": {
     "base_uri": "https://localhost:8080/",
     "height": 503
    },
    "id": "qzHRAjY785aO",
    "outputId": "055562b4-aba5-4922-8165-d999260b3c18"
   },
   "source": [
    "# for column in data.columns:\n",
    "#     data[column] = data[column]  * 100 / data[column].abs().min()\n",
    "\n",
    "# for column in testing.columns:\n",
    "#     testing[column] = testing[column] * 100 / testing[column].abs().min()\n",
    "plt.figure(figsize=(24, 12))\n",
    "plt.plot(data.index, data['Close'], color='red')\n",
    "plt.scatter(x_test.index, y_pred, s=2,  color='blue')\n",
    "plt.scatter(testing.index, y_pred_test, s=2, color='green')\n",
    "# plt.plot(testing.index, y_test_test)"
   ],
   "execution_count": null,
   "outputs": []
  },
  {
   "cell_type": "markdown",
   "metadata": {
    "id": "aByF9f8Yyr8f"
   },
   "source": [
    "# Comparing some predicted values and actual values using bar plot"
   ]
  },
  {
   "cell_type": "code",
   "metadata": {
    "colab": {
     "base_uri": "https://localhost:8080/"
    },
    "id": "_kWGAeRxqtbk",
    "outputId": "338a9cb7-cbe7-4bea-8185-d4d8079f0394"
   },
   "source": [
    "X_test_self = np.array(test.index).reshape(-1, 1)\n",
    "y_test_self = test['Close']\n",
    "model.score(X_test_self, y_test_self)"
   ],
   "execution_count": null,
   "outputs": []
  },
  {
   "cell_type": "code",
   "metadata": {
    "id": "jJP2uMKdqtb7"
   },
   "source": [
    "y_pred_train = model.predict(X_test_self)"
   ],
   "execution_count": null,
   "outputs": []
  },
  {
   "cell_type": "code",
   "metadata": {
    "colab": {
     "base_uri": "https://localhost:8080/"
    },
    "id": "1zctdIhqsDHr",
    "outputId": "93764519-3b67-4337-f0dc-fa45a8fb40da"
   },
   "source": [
    "y_pred_train.shape"
   ],
   "execution_count": null,
   "outputs": []
  },
  {
   "cell_type": "code",
   "metadata": {
    "colab": {
     "base_uri": "https://localhost:8080/"
    },
    "id": "kSp4K1gVqtb9",
    "outputId": "7502892a-dce6-406a-c364-844b9bb79d92"
   },
   "source": [
    "randints = np.random.randint(2550, size=25)\n",
    "\n",
    "# Select row numbers == random numbers\n",
    "df_sample = df[df.index.isin(randints)]\n",
    "df_sample['Prediction'] = y_pred_train[:25]"
   ],
   "execution_count": null,
   "outputs": []
  },
  {
   "cell_type": "code",
   "metadata": {
    "colab": {
     "base_uri": "https://localhost:8080/",
     "height": 804
    },
    "id": "faAe1K38qtb-",
    "outputId": "e528e3bf-8281-42a7-96a0-2dd376731169"
   },
   "source": [
    "# Create subplots to plot graph and control axes\n",
    "fig, ax = plt.subplots(figsize=(24, 12))\n",
    "df_sample.plot(x='Date', y=['Close', 'Prediction'], kind='bar', ax=ax)\n",
    "\n",
    "# Set figure title\n",
    "plt.title('Comparison Predicted vs Actual Price in Sample data selection', fontsize=16)\n",
    "\n",
    "# \n",
    "\n",
    "# Set x label\n",
    "plt.xlabel('Date', fontsize=14)\n",
    "\n",
    "# Set y label\n",
    "plt.ylabel('Stock Price in $', fontsize=14)\n",
    "\n",
    "# Show plot\n",
    "plt.show()"
   ],
   "execution_count": null,
   "outputs": []
  },
  {
   "cell_type": "markdown",
   "metadata": {
    "id": "82vhdLgjwckK"
   },
   "source": [
    "# KNN"
   ]
  },
  {
   "cell_type": "code",
   "metadata": {
    "colab": {
     "base_uri": "https://localhost:8080/",
     "height": 436
    },
    "id": "rYcgFHPCp2AN",
    "outputId": "51d30692-8f4a-41af-91db-6c560eae848f"
   },
   "source": [
    "from sklearn.neighbors import KNeighborsRegressor\n",
    "knn = KNeighborsRegressor(n_neighbors = 3)\n",
    "knn.fit(x_train,y_train)\n",
    "\n",
    "# knn.predict(x_test).shape"
   ],
   "execution_count": null,
   "outputs": []
  },
  {
   "cell_type": "code",
   "metadata": {
    "colab": {
     "base_uri": "https://localhost:8080/"
    },
    "id": "lwOn9CLwrXTH",
    "outputId": "674379e1-1ff4-4199-ade6-acbc66e73c5a"
   },
   "source": [
    "knn.score(x_train,y_train)"
   ],
   "execution_count": null,
   "outputs": []
  },
  {
   "cell_type": "code",
   "metadata": {
    "colab": {
     "base_uri": "https://localhost:8080/"
    },
    "id": "Zifr7L6Src5E",
    "outputId": "18d4b80f-098a-4fb4-9303-fc7b385c447a"
   },
   "source": [
    "knn.score(x_test, y_test)"
   ],
   "execution_count": null,
   "outputs": []
  },
  {
   "cell_type": "code",
   "metadata": {
    "id": "5IPC8Bhntvao"
   },
   "source": [
    "y_pred_knn = knn.predict(testing[['Adj. Close', 'HL_PCT', 'PCT_change','Adj. Volume']])"
   ],
   "execution_count": null,
   "outputs": []
  },
  {
   "cell_type": "code",
   "metadata": {
    "colab": {
     "base_uri": "https://localhost:8080/",
     "height": 737
    },
    "id": "pkJ-aJtEsKYT",
    "outputId": "68cbbccf-cd28-4ab5-b12c-6634fa928019"
   },
   "source": [
    "plt.figure(figsize=(24, 12))\n",
    "plt.plot(data.index, data['Close'], color='red')\n",
    "# plt.scatter(x_test.index, y_pred, s=2,  color='blue')\n",
    "plt.scatter(x_test.index, knn.predict(x_test), s=2, color='blue')\n",
    "plt.scatter(testing.index, y_pred_knn, s=2, color='green')\n",
    "# plt.plot(testing.index, y_test_test)"
   ],
   "execution_count": null,
   "outputs": []
  },
  {
   "cell_type": "markdown",
   "metadata": {
    "id": "vXCtveBKwVNS"
   },
   "source": [
    "# Desicion Tree Regressor"
   ]
  },
  {
   "cell_type": "code",
   "metadata": {
    "colab": {
     "base_uri": "https://localhost:8080/"
    },
    "id": "oZ51gmorsYC-",
    "outputId": "628f2161-d5ec-4b3c-b2c7-19a4556af943"
   },
   "source": [
    "from sklearn.tree import DecisionTreeRegressor\n",
    "best_score = 0\n",
    "\n",
    "for depth in range(2,10):\n",
    "    for split in range(2,5):\n",
    "        for leaf in range(5,20):\n",
    "            tree_grid_search = DecisionTreeRegressor(\n",
    "                                                      max_depth = depth,\n",
    "                                                      min_samples_split = split,\n",
    "                                                      max_leaf_nodes= leaf)\n",
    "            tree_grid_search.fit(x_train,y_train)\n",
    "            \n",
    "            \n",
    "            test_score = tree_grid_search.score(x_test,y_test)\n",
    "            train_score = tree_grid_search.score(x_train,y_train)\n",
    "#                 parameters = {'Depth':depth,\n",
    "#                               'Split':split,\n",
    "#                               'Leaves':leaf,\n",
    "#                               'Criterion':criteria}\n",
    "#                 print(\"Parameters = \",parameters)\n",
    "            if test_score > best_score:\n",
    "                best_score = test_score\n",
    "                best_parameters = {'Depth':depth,\n",
    "                                  'Split':split,\n",
    "                                  'Leaves':leaf,\n",
    "                                  'Criterion':criteria}\n",
    "print(\"Best Score: \"+str(best_score))\n",
    "print(\"Best Parameters: \"+str(best_parameters))"
   ],
   "execution_count": null,
   "outputs": []
  },
  {
   "cell_type": "code",
   "metadata": {
    "colab": {
     "base_uri": "https://localhost:8080/"
    },
    "id": "c5RRIBPsu50S",
    "outputId": "f1e39142-7d8f-49be-ec66-c99f27e48009"
   },
   "source": [
    "from sklearn.model_selection import GridSearchCV\n",
    "depth = list(range(2,10))\n",
    "split = list(range(2,5))\n",
    "leaf = list(range(5,20))\n",
    "\n",
    "param_grid = {'max_depth':depth,\n",
    "             'min_samples_split':split,\n",
    "             'max_leaf_nodes':leaf}\n",
    "\n",
    "tree_grid_cv = DecisionTreeRegressor()\n",
    "\n",
    "grid_search = GridSearchCV(tree_grid_cv , param_grid,cv=5)\n",
    "\n",
    "grid_search.fit(x_train,y_train)"
   ],
   "execution_count": null,
   "outputs": []
  },
  {
   "cell_type": "code",
   "metadata": {
    "colab": {
     "base_uri": "https://localhost:8080/"
    },
    "id": "smX-an-Kv9iH",
    "outputId": "d0256606-eb9b-4bc3-adaa-c52674bd0b72"
   },
   "source": [
    "print(\"Test acc: \"+str(grid_search.score(x_test,y_test)))"
   ],
   "execution_count": null,
   "outputs": []
  },
  {
   "cell_type": "code",
   "metadata": {
    "colab": {
     "base_uri": "https://localhost:8080/"
    },
    "id": "lkXo-1xCwRw2",
    "outputId": "b2f63bb1-2a62-408c-e474-152dfe849279"
   },
   "source": [
    "print(\"Best parameter :\" +str(grid_search.best_params_))\n",
    "print(\"Best score: \"+str(grid_search.best_score_))"
   ],
   "execution_count": null,
   "outputs": []
  },
  {
   "cell_type": "code",
   "metadata": {
    "id": "454ENpgdwSf0"
   },
   "source": [
    ""
   ],
   "execution_count": null,
   "outputs": []
  }
 ]
}